{
 "cells": [
  {
   "cell_type": "code",
   "execution_count": 14,
   "metadata": {},
   "outputs": [],
   "source": [
    "import pandas as pd\n",
    "df = pd.read_csv(\"movies.csv\")"
   ]
  },
  {
   "cell_type": "code",
   "execution_count": 15,
   "metadata": {},
   "outputs": [],
   "source": [
    "#df"
   ]
  },
  {
   "cell_type": "code",
   "execution_count": 16,
   "metadata": {},
   "outputs": [],
   "source": [
    "columns_to_keep = [\n",
    "    'genres', \n",
    "    'keywords', \n",
    "    'original_title', \n",
    "    'overview', \n",
    "    'popularity', \n",
    "    'runtime', \n",
    "    'spoken_languages', \n",
    "    'title', \n",
    "    'vote_average', \n",
    "    'vote_count', \n",
    "    'cast', \n",
    "    'director'\n",
    "]"
   ]
  },
  {
   "cell_type": "code",
   "execution_count": 17,
   "metadata": {},
   "outputs": [],
   "source": [
    "filtered_df = df[columns_to_keep]"
   ]
  },
  {
   "cell_type": "code",
   "execution_count": 19,
   "metadata": {},
   "outputs": [],
   "source": [
    "# \"pipeline\"\n",
    "filtered_df = filtered_df.dropna()\n",
    "filtered_df = filtered_df[\n",
    "    (filtered_df['vote_count'] >= 1000) &\n",
    "    (filtered_df['popularity'] >= 0) &\n",
    "    (filtered_df['vote_average'] >= 4.0) &\n",
    "    (filtered_df['spoken_languages'].str.contains('English', case=False))\n",
    "]"
   ]
  },
  {
   "cell_type": "code",
   "execution_count": 20,
   "metadata": {},
   "outputs": [],
   "source": [
    "filtered_df.to_csv('filtered_movies.csv', index=False)"
   ]
  }
 ],
 "metadata": {
  "kernelspec": {
   "display_name": "Python 3",
   "language": "python",
   "name": "python3"
  },
  "language_info": {
   "codemirror_mode": {
    "name": "ipython",
    "version": 3
   },
   "file_extension": ".py",
   "mimetype": "text/x-python",
   "name": "python",
   "nbconvert_exporter": "python",
   "pygments_lexer": "ipython3",
   "version": "3.12.4"
  }
 },
 "nbformat": 4,
 "nbformat_minor": 2
}
